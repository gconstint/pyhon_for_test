{
 "cells": [
  {
   "cell_type": "code",
   "execution_count": null,
   "outputs": [],
   "source": [
    "def check_index(key):\n",
    "    \"\"\"\n",
    "    指定的键是否是可接受的索引？\n",
    "\n",
    "    健必须是非负整数，才是可以接受的。如果不是整数，将引发TypeError异常。\n",
    "    如果是负数，将引发IndexError异常。（因为这个序列的长度是无穷的）\n",
    "    \"\"\"\n",
    "    if not isinstance(key, int): raise TypeError\n",
    "    if key < 0: raise IndexError\n",
    "\n",
    "\n",
    "class ArithmeticSequence:\n",
    "    def __init__(self, start=0, step=1):\n",
    "        \"\"\"\n",
    "        初始化这个算术序列\n",
    "        :param start: 序列中的第一个值\n",
    "        :param step: 两个相邻值的差（步长）\n",
    "        changed： 一个字典，包含用户修改后的值\n",
    "        \"\"\"\n",
    "        self.start = start\n",
    "        self.step = step\n",
    "        self.changed = {}\n",
    "\n",
    "    def __getitem__(self, key):\n",
    "        \"\"\"\n",
    "        从算术序列中获取一个元素\n",
    "        :param key:\n",
    "        :return:\n",
    "        \"\"\"\n",
    "        check_index(key)\n",
    "        try:\n",
    "            return self.changed[key]\n",
    "        except KeyError:\n",
    "            return self.start + key * self.step\n",
    "\n",
    "    def __setitem__(self, key, value):\n",
    "        \"\"\"\n",
    "        修改算术序列中的一个元素\n",
    "        :param key:\n",
    "        :param value:\n",
    "        :return:\n",
    "        \"\"\"\n",
    "        check_index(key)\n",
    "        self.changed[key] = value\n",
    "\n"
   ],
   "metadata": {
    "collapsed": false,
    "pycharm": {
     "name": "#%%\n",
     "is_executing": true
    }
   }
  },
  {
   "cell_type": "code",
   "execution_count": null,
   "outputs": [],
   "source": [
    "seq = ArithmeticSequence(0, 2)\n",
    "seq[6]"
   ],
   "metadata": {
    "collapsed": false,
    "pycharm": {
     "name": "#%%\n",
     "is_executing": true
    }
   }
  },
  {
   "cell_type": "code",
   "execution_count": null,
   "outputs": [],
   "source": [
    "seq[6] = 8"
   ],
   "metadata": {
    "collapsed": false,
    "pycharm": {
     "name": "#%%\n",
     "is_executing": true
    }
   }
  },
  {
   "cell_type": "code",
   "execution_count": null,
   "outputs": [],
   "source": [
    "seq[6]"
   ],
   "metadata": {
    "collapsed": false,
    "pycharm": {
     "name": "#%%\n",
     "is_executing": true
    }
   }
  },
  {
   "cell_type": "code",
   "execution_count": 1,
   "outputs": [],
   "source": [
    "# 代码说明不将charm等字符串拆分\n",
    "def flatten(nested):\n",
    "    try:\n",
    "        # 不迭代类似于字符串的对象\n",
    "        try:\n",
    "            nested + ''\n",
    "        except TypeError:\n",
    "            pass\n",
    "        else:\n",
    "            raise TypeError\n",
    "        for sublist in nested:\n",
    "            for element in flatten(sublist):\n",
    "                yield element\n",
    "    except TypeError:\n",
    "        yield nested\n"
   ],
   "metadata": {
    "collapsed": false,
    "pycharm": {
     "name": "#%%\n"
    }
   }
  },
  {
   "cell_type": "code",
   "execution_count": 2,
   "outputs": [
    {
     "data": {
      "text/plain": "['charm', 'mary', 'had', 'little', 'lambda']"
     },
     "execution_count": 2,
     "metadata": {},
     "output_type": "execute_result"
    }
   ],
   "source": [
    "list(flatten(['charm', ['mary', 'had', 'little'], 'lambda']))"
   ],
   "metadata": {
    "collapsed": false,
    "pycharm": {
     "name": "#%%\n"
    }
   }
  },
  {
   "cell_type": "code",
   "execution_count": null,
   "outputs": [],
   "source": [
    "def flatten(nested):\n",
    "    try:\n",
    "        for sublist in nested:\n",
    "            for element in sublist:\n",
    "                yield element\n",
    "    except TypeError:\n",
    "        yield nested\n"
   ],
   "metadata": {
    "collapsed": false,
    "pycharm": {
     "name": "#%%\n",
     "is_executing": true
    }
   }
  },
  {
   "cell_type": "code",
   "execution_count": null,
   "outputs": [],
   "source": [
    "list(flatten(['charm', ['mary', 'had', 'little'], 'lambda']))"
   ],
   "metadata": {
    "collapsed": false,
    "pycharm": {
     "name": "#%%\n",
     "is_executing": true
    }
   }
  },
  {
   "cell_type": "code",
   "execution_count": null,
   "outputs": [],
   "source": [
    "def conflict(state, nextX):\n",
    "    nextY = len(state)\n",
    "    for i in range(nextY):\n",
    "        if abs(state[i] - nextX) in (0, nextY - i):\n",
    "            return True\n",
    "    return False\n",
    "\n",
    "\n",
    "# eight queens problem\n",
    "def queens(num=8, state=()):\n",
    "    for pos in range(num):\n",
    "        if not conflict(state, pos):\n",
    "            if len(state) == num - 1:\n",
    "                yield (pos,)\n",
    "            else:\n",
    "                for result in queens(num, state + (pos,)):\n",
    "                    yield (pos,) + result"
   ],
   "metadata": {
    "collapsed": false,
    "pycharm": {
     "name": "#%%\n",
     "is_executing": true
    }
   }
  },
  {
   "cell_type": "code",
   "execution_count": null,
   "outputs": [],
   "source": [
    "list(queens(4))"
   ],
   "metadata": {
    "collapsed": false,
    "pycharm": {
     "name": "#%%\n",
     "is_executing": true
    }
   }
  },
  {
   "cell_type": "code",
   "execution_count": null,
   "outputs": [],
   "source": [
    "for solution in queens(8):\n",
    "    print(solution)"
   ],
   "metadata": {
    "collapsed": false,
    "pycharm": {
     "name": "#%%\n",
     "is_executing": true
    }
   }
  },
  {
   "cell_type": "code",
   "execution_count": null,
   "outputs": [],
   "source": [
    "class Rectangle:\n",
    "    def __init__(self):\n",
    "        self.width = 0\n",
    "        self.height = 0\n",
    "\n",
    "    def set_size(self, size):\n",
    "        self.width, self.height = size\n",
    "\n",
    "    def get_size(self):\n",
    "        return self.width, self.height\n",
    "\n",
    "    size = property(get_size, set_size)"
   ],
   "metadata": {
    "collapsed": false,
    "pycharm": {
     "name": "#%%\n",
     "is_executing": true
    }
   }
  },
  {
   "cell_type": "code",
   "execution_count": null,
   "outputs": [],
   "source": [
    "r = Rectangle()\n",
    "r.width = 3\n",
    "r.height = 4"
   ],
   "metadata": {
    "collapsed": false,
    "pycharm": {
     "name": "#%%\n",
     "is_executing": true
    }
   }
  },
  {
   "cell_type": "code",
   "execution_count": null,
   "outputs": [],
   "source": [
    "r.size"
   ],
   "metadata": {
    "collapsed": false,
    "pycharm": {
     "name": "#%%\n",
     "is_executing": true
    }
   }
  },
  {
   "cell_type": "code",
   "execution_count": null,
   "outputs": [],
   "source": [
    "r.size = 5, 6\n",
    "r.size"
   ],
   "metadata": {
    "collapsed": false,
    "pycharm": {
     "name": "#%%\n",
     "is_executing": true
    }
   }
  },
  {
   "cell_type": "code",
   "execution_count": null,
   "outputs": [],
   "source": [
    "class MyClass:\n",
    "\n",
    "    @staticmethod\n",
    "    def smeth():\n",
    "        print(\"This is a static method\")\n",
    "\n",
    "    @classmethod\n",
    "    def cmeth(cls):\n",
    "        print(\"This is a class method\")\n",
    "\n"
   ],
   "metadata": {
    "collapsed": false,
    "pycharm": {
     "name": "#%%\n",
     "is_executing": true
    }
   }
  },
  {
   "cell_type": "code",
   "execution_count": null,
   "outputs": [],
   "source": [
    "MyClass.smeth()"
   ],
   "metadata": {
    "collapsed": false,
    "pycharm": {
     "name": "#%%\n",
     "is_executing": true
    }
   }
  },
  {
   "cell_type": "code",
   "execution_count": null,
   "outputs": [],
   "source": [
    "MyClass.cmeth()"
   ],
   "metadata": {
    "collapsed": false,
    "pycharm": {
     "name": "#%%\n",
     "is_executing": true
    }
   }
  },
  {
   "cell_type": "code",
   "execution_count": null,
   "outputs": [],
   "source": [
    "class Rectangle:\n",
    "    def __init__(self):\n",
    "        self.width = 0\n",
    "        self.height = 0\n",
    "\n",
    "    def __setattr__(self, name, value):\n",
    "        if name == \"size\":\n",
    "            self.width, self.height = value\n",
    "        else:\n",
    "            self.__dict__[name] = value\n",
    "\n",
    "    def __getattr__(self, name):\n",
    "        if name == \"size\":\n",
    "            return self.width, self.height\n",
    "        else:\n",
    "            raise AttributeError()"
   ],
   "metadata": {
    "collapsed": false,
    "pycharm": {
     "name": "#%%\n",
     "is_executing": true
    }
   }
  },
  {
   "cell_type": "code",
   "execution_count": null,
   "outputs": [],
   "source": [
    "r = Rectangle()"
   ],
   "metadata": {
    "collapsed": false,
    "pycharm": {
     "name": "#%%\n",
     "is_executing": true
    }
   }
  },
  {
   "cell_type": "code",
   "execution_count": null,
   "outputs": [],
   "source": [
    "r.size = 5, 6"
   ],
   "metadata": {
    "collapsed": false,
    "pycharm": {
     "name": "#%%\n",
     "is_executing": true
    }
   }
  },
  {
   "cell_type": "code",
   "execution_count": null,
   "outputs": [],
   "source": [
    "r.size"
   ],
   "metadata": {
    "collapsed": false,
    "pycharm": {
     "name": "#%%\n",
     "is_executing": true
    }
   }
  },
  {
   "cell_type": "code",
   "execution_count": null,
   "outputs": [],
   "source": [
    "r.width = 3\n",
    "r.size"
   ],
   "metadata": {
    "collapsed": false,
    "pycharm": {
     "name": "#%%\n",
     "is_executing": true
    }
   }
  },
  {
   "cell_type": "code",
   "execution_count": null,
   "outputs": [],
   "source": [
    "class Fibs:\n",
    "    def __init__(self):\n",
    "        self.a = 0\n",
    "        self.b = 1\n",
    "\n",
    "    def __next__(self):\n",
    "        self.a, self.b = self.b, self.a + self.b\n",
    "        return self.a\n",
    "    def __iter__(self):\n",
    "        return self\n"
   ],
   "metadata": {
    "collapsed": false,
    "pycharm": {
     "name": "#%%\n",
     "is_executing": true
    }
   }
  },
  {
   "cell_type": "code",
   "execution_count": null,
   "outputs": [],
   "source": [
    "f = Fibs()\n",
    "for i in f:\n",
    "    if i >1000:\n",
    "        print(i)\n",
    "        break\n"
   ],
   "metadata": {
    "collapsed": false,
    "pycharm": {
     "name": "#%%\n",
     "is_executing": true
    }
   }
  },
  {
   "cell_type": "code",
   "execution_count": null,
   "outputs": [],
   "source": [
    "it = iter([1, 2, 3, 4, 5])\n",
    "next(it)"
   ],
   "metadata": {
    "collapsed": false,
    "pycharm": {
     "name": "#%%\n",
     "is_executing": true
    }
   }
  },
  {
   "cell_type": "code",
   "execution_count": null,
   "outputs": [],
   "source": [
    "next(it)"
   ],
   "metadata": {
    "collapsed": false,
    "pycharm": {
     "name": "#%%\n",
     "is_executing": true
    }
   }
  },
  {
   "cell_type": "code",
   "execution_count": null,
   "outputs": [],
   "source": [
    "list(f)[:10]"
   ],
   "metadata": {
    "collapsed": false,
    "pycharm": {
     "name": "#%%\n",
     "is_executing": true
    }
   }
  },
  {
   "cell_type": "code",
   "execution_count": null,
   "outputs": [],
   "source": [],
   "metadata": {
    "collapsed": false,
    "pycharm": {
     "name": "#%%\n",
     "is_executing": true
    }
   }
  }
 ],
 "metadata": {
  "kernelspec": {
   "display_name": "Python 3",
   "language": "python",
   "name": "python3"
  },
  "language_info": {
   "codemirror_mode": {
    "name": "ipython",
    "version": 2
   },
   "file_extension": ".py",
   "mimetype": "text/x-python",
   "name": "python",
   "nbconvert_exporter": "python",
   "pygments_lexer": "ipython2",
   "version": "2.7.6"
  }
 },
 "nbformat": 4,
 "nbformat_minor": 0
}