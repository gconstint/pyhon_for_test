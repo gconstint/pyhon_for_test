{
 "cells": [
  {
   "cell_type": "code",
   "execution_count": null,
   "outputs": [],
   "source": [
    "import socket\n",
    "\n",
    "s = socket.socket()\n",
    "\n",
    "host = socket.gethostname()\n",
    "port = 1234\n",
    "s.bind((host, port))\n",
    "\n",
    "s.listen(5)\n",
    "while True:\n",
    "    c, addr = s.accept()\n",
    "    print(\"Got connection from'\", addr)\n",
    "    c.sendd(\"Thank you for connecting\")\n",
    "    c.close()\n"
   ],
   "metadata": {
    "collapsed": false,
    "pycharm": {
     "name": "#%%\n",
     "is_executing": true
    }
   }
  },
  {
   "cell_type": "code",
   "execution_count": null,
   "outputs": [],
   "source": [
    "import socket\n",
    "\n",
    "s = socket.socket()\n",
    "\n",
    "host = socket.gethostname()\n",
    "port = 1234\n",
    "\n",
    "s.connect((host, port))\n",
    "print(s.recv(1024))"
   ],
   "metadata": {
    "collapsed": false,
    "pycharm": {
     "name": "#%%\n",
     "is_executing": true
    }
   }
  },
  {
   "cell_type": "code",
   "execution_count": null,
   "outputs": [],
   "source": [
    "#分叉服务器\n",
    "from socketserver import TCPServer, ForkingMixIn, StreamRequestHandler"
   ],
   "metadata": {
    "collapsed": false,
    "pycharm": {
     "name": "#%%\n",
     "is_executing": true
    }
   }
  },
  {
   "cell_type": "code",
   "execution_count": null,
   "outputs": [],
   "source": [
    "class Server(ForkingMixIn, StreamRequestHandler):\n",
    "    pass\n",
    "\n",
    "\n",
    "class Handler(TCPServer):\n",
    "\n",
    "    def handler(self):\n",
    "        addr = self.request.getpeername()\n",
    "        print(\"Got connection from \", addr)\n",
    "        self.wfile.write(\"Thank you fro connecting\")\n",
    "\n",
    "\n",
    "server = Server((\"\", 1234), Handler)\n",
    "server.serve_forever()"
   ],
   "metadata": {
    "collapsed": false,
    "pycharm": {
     "name": "#%%\n",
     "is_executing": true
    }
   }
  },
  {
   "cell_type": "code",
   "execution_count": null,
   "outputs": [],
   "source": [
    "from socketserver import TCPServer, ThreadingMixIn, StreamRequestHandler"
   ],
   "metadata": {
    "collapsed": false,
    "pycharm": {
     "name": "#%%\n",
     "is_executing": true
    }
   }
  },
  {
   "cell_type": "code",
   "execution_count": null,
   "outputs": [],
   "source": [
    "class Server(ThreadingMixIn, TCPServer):\n",
    "    pass\n",
    "\n",
    "\n",
    "class Handler(StreamRequestHandler):\n",
    "\n",
    "    def handler(self):\n",
    "        addr = self.request.getpeername()\n",
    "        print(\"Got connection from \", addr)\n",
    "        self.wfile.write('Thank you for connecting')\n",
    "\n",
    "server = Server((\" \", 1234),Handler)\n",
    "server.serve_forever()"
   ],
   "metadata": {
    "collapsed": false,
    "pycharm": {
     "name": "#%%\n",
     "is_executing": true
    }
   }
  },
  {
   "cell_type": "code",
   "execution_count": null,
   "outputs": [],
   "source": [
    "import socket , select"
   ],
   "metadata": {
    "collapsed": false,
    "pycharm": {
     "name": "#%%\n",
     "is_executing": true
    }
   }
  },
  {
   "cell_type": "code",
   "execution_count": null,
   "outputs": [],
   "source": [
    "!where python"
   ],
   "metadata": {
    "collapsed": false,
    "pycharm": {
     "name": "#%%\n",
     "is_executing": true
    }
   }
  },
  {
   "cell_type": "code",
   "execution_count": null,
   "outputs": [],
   "source": [
    "s= socket.socket()\n",
    "\n",
    "host = socket.gethostname()\n",
    "port =1234\n",
    "s.bind((host,port))\n",
    "s.listen(5)\n",
    "inputs = [5]\n",
    "while True:\n",
    "    rs, ws, es= select.select(inputs,[],[])\n",
    "    for r in rs:\n",
    "        if r in s:\n",
    "            c,addr = s.accept()\n",
    "            print(\"Got connection from \",addr)\n",
    "            inputs.appen(c)\n",
    "\n",
    "    else:\n",
    "        try:\n",
    "            data = r.recv(1024)\n",
    "            disconnected = not data\n",
    "\n",
    "        except socket.error:\n",
    "            disconnected = True\n",
    "        if disconnected:\n",
    "            print(r.fethostname(), \"disconnected\")\n",
    "            inputs.remove(r)\n",
    "        else:\n",
    "            print(data)"
   ],
   "metadata": {
    "collapsed": false,
    "pycharm": {
     "name": "#%%\n",
     "is_executing": true
    }
   }
  },
  {
   "cell_type": "code",
   "execution_count": null,
   "outputs": [],
   "source": [],
   "metadata": {
    "collapsed": false,
    "pycharm": {
     "name": "#%%\n"
    }
   }
  }
 ],
 "metadata": {
  "kernelspec": {
   "name": "python3",
   "language": "python",
   "display_name": "Python 3 (ipykernel)"
  },
  "language_info": {
   "codemirror_mode": {
    "name": "ipython",
    "version": 2
   },
   "file_extension": ".py",
   "mimetype": "text/x-python",
   "name": "python",
   "nbconvert_exporter": "python",
   "pygments_lexer": "ipython2",
   "version": "2.7.6"
  }
 },
 "nbformat": 4,
 "nbformat_minor": 0
}