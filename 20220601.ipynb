{
 "cells": [
  {
   "cell_type": "code",
   "execution_count": 1,
   "outputs": [],
   "source": [
    "#!/usr/bin/env python"
   ],
   "metadata": {
    "collapsed": false,
    "pycharm": {
     "name": "#%%\n"
    }
   }
  },
  {
   "cell_type": "code",
   "execution_count": 2,
   "outputs": [],
   "source": [
    "import cgi"
   ],
   "metadata": {
    "collapsed": false,
    "pycharm": {
     "name": "#%%\n"
    }
   }
  },
  {
   "cell_type": "code",
   "execution_count": 3,
   "outputs": [
    {
     "name": "stdout",
     "output_type": "stream",
     "text": [
      "Content-type: text/html\n",
      "\n",
      "<html>\n",
      "  <head>\n",
      "    <title>Greeting Page</title>\n",
      "  </head>\n",
      "  <body>\n",
      "    <h1>Hello, world!</h1>\n",
      "    \n",
      "    <form action='simple3.cgi'>\n",
      "    Change name <input type='text' name='name' />\n",
      "    <input type= 'submit' />\n",
      "    </form>\n",
      "  </body>\n",
      "</html>\n"
     ]
    }
   ],
   "source": [
    "form = cgi.FieldStorage()\n",
    "\n",
    "name = form.getvalue('name', 'world')\n",
    "\n",
    "print(\"\"\"Content-type: text/html\n",
    "\n",
    "<html>\n",
    "  <head>\n",
    "    <title>Greeting Page</title>\n",
    "  </head>\n",
    "  <body>\n",
    "    <h1>Hello, {}!</h1>\n",
    "\n",
    "    <form action='simple3.cgi'>\n",
    "    Change name <input type='text' name='name' />\n",
    "    <input type= 'submit' />\n",
    "    </form>\n",
    "  </body>\n",
    "</html>\"\"\".format(name))\n"
   ],
   "metadata": {
    "collapsed": false,
    "pycharm": {
     "name": "#%%\n"
    }
   }
  }
 ],
 "metadata": {
  "kernelspec": {
   "display_name": "Python 3",
   "language": "python",
   "name": "python3"
  },
  "language_info": {
   "codemirror_mode": {
    "name": "ipython",
    "version": 2
   },
   "file_extension": ".py",
   "mimetype": "text/x-python",
   "name": "python",
   "nbconvert_exporter": "python",
   "pygments_lexer": "ipython2",
   "version": "2.7.6"
  }
 },
 "nbformat": 4,
 "nbformat_minor": 0
}